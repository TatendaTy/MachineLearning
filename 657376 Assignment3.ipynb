{
 "cells": [
  {
   "cell_type": "code",
   "execution_count": 8,
   "metadata": {},
   "outputs": [],
   "source": [
    "import pandas as pd\n",
    "import numpy as np\n",
    "from sklearn.metrics import accuracy_score\n",
    "from sklearn.preprocessing import StandardScaler\n",
    "from sklearn.model_selection import train_test_split\n",
    "from sklearn.impute import SimpleImputer\n",
    "from sklearn.tree import DecisionTreeClassifier\n",
    "from sklearn.ensemble import RandomForestClassifier\n",
    "\n",
    "# Load the diabetes dataset\n",
    "diabetes = pd.read_csv(\"diabetes.csv\")\n",
    "\n",
    "# Replace all the zeros with NaN in the relevant columns\n",
    "diabetes[[\"Glucose\", \"BloodPressure\", \"SkinThickness\", \"Insulin\", \"BMI\"]] = diabetes[[\"Glucose\", \"BloodPressure\", \"SkinThickness\", \"Insulin\", \"BMI\"]].replace(0, np.nan)\n",
    "\n",
    "# Fill in the NaNs with the median value\n",
    "diabetes.fillna(diabetes.median(), inplace=True)\n"
   ]
  },
  {
   "cell_type": "code",
   "execution_count": 9,
   "metadata": {},
   "outputs": [
    {
     "name": "stdout",
     "output_type": "stream",
     "text": [
      "   Pregnancies  Glucose  BloodPressure  SkinThickness  Insulin   BMI  \\\n",
      "0            6    148.0           72.0           35.0    125.0  33.6   \n",
      "1            1     85.0           66.0           29.0    125.0  26.6   \n",
      "2            8    183.0           64.0           29.0    125.0  23.3   \n",
      "3            1     89.0           66.0           23.0     94.0  28.1   \n",
      "4            0    137.0           40.0           35.0    168.0  43.1   \n",
      "\n",
      "   DiabetesPedigreeFunction  Age  Outcome  \n",
      "0                     0.627   50        1  \n",
      "1                     0.351   31        0  \n",
      "2                     0.672   32        1  \n",
      "3                     0.167   21        0  \n",
      "4                     2.288   33        1  \n"
     ]
    }
   ],
   "source": [
    "print(diabetes.head())"
   ]
  },
  {
   "cell_type": "code",
   "execution_count": 10,
   "metadata": {},
   "outputs": [],
   "source": [
    "# Create a StandardScaler object\n",
    "scaler = StandardScaler()\n",
    "\n",
    "# Fit the scaler to the diabetes data and transform the data\n",
    "diabetes_std = scaler.fit_transform(diabetes)\n",
    "\n",
    "# Convert the standardized data back to a pandas dataframe\n",
    "diabetes_std = pd.DataFrame(diabetes_std, columns=diabetes.columns)\n"
   ]
  },
  {
   "cell_type": "code",
   "execution_count": 11,
   "metadata": {},
   "outputs": [
    {
     "name": "stdout",
     "output_type": "stream",
     "text": [
      "   Pregnancies  Glucose  BloodPressure  SkinThickness  Insulin   BMI  \\\n",
      "0          6.0    148.0           72.0           35.0    125.0  33.6   \n",
      "1          1.0     85.0           66.0           29.0    125.0  26.6   \n",
      "2          8.0    183.0           64.0           29.0    125.0  23.3   \n",
      "3          1.0     89.0           66.0           23.0     94.0  28.1   \n",
      "4          0.0    137.0           40.0           35.0    168.0  43.1   \n",
      "\n",
      "   DiabetesPedigreeFunction   Age  Outcome  \n",
      "0                     0.627  50.0      1.0  \n",
      "1                     0.351  31.0      0.0  \n",
      "2                     0.672  32.0      1.0  \n",
      "3                     0.167  21.0      0.0  \n",
      "4                     2.288  33.0      1.0  \n"
     ]
    }
   ],
   "source": [
    "# Create an instance of SimpleImputer with the \"median\" strategy to fill NaNs\n",
    "imputer = SimpleImputer(strategy='median')\n",
    "\n",
    "# Fit the imputer on the dataset\n",
    "imputer.fit(diabetes)\n",
    "\n",
    "# Transform the dataset by filling in the NaNs with the median value\n",
    "diabetes = pd.DataFrame(imputer.transform(diabetes), columns=diabetes.columns)\n",
    "\n",
    "# Inspect the first few rows of the data again to confirm the transformation\n",
    "print(diabetes.head())\n"
   ]
  },
  {
   "cell_type": "code",
   "execution_count": 12,
   "metadata": {},
   "outputs": [
    {
     "name": "stdout",
     "output_type": "stream",
     "text": [
      "   Pregnancies   Glucose  BloodPressure  SkinThickness   Insulin       BMI  \\\n",
      "0    -0.526397 -1.256881      -0.018995       0.034298 -0.175620 -0.007450   \n",
      "1     1.588046 -0.326051       0.808174      -0.560583 -0.175620 -0.599092   \n",
      "2    -0.828460  0.571536      -2.169636      -1.155463 -0.652193 -0.526941   \n",
      "3    -1.130523  1.302903      -1.838768       0.034298 -0.175620 -1.508200   \n",
      "4     0.681856  0.405316       0.642740       0.986106  2.604392  1.998360   \n",
      "\n",
      "   DiabetesPedigreeFunction       Age  \n",
      "0                 -0.490735 -1.035940  \n",
      "1                  2.415030  1.487101  \n",
      "2                  0.549161 -0.948939  \n",
      "3                 -0.639291  2.792122  \n",
      "4                 -0.686829  1.139095  \n"
     ]
    }
   ],
   "source": [
    "# Split the dataset into features and target\n",
    "X = diabetes.iloc[:, :-1]\n",
    "y = diabetes.iloc[:, -1]\n",
    "\n",
    "# Split the dataset into training and testing sets\n",
    "X_train, X_test, y_train, y_test = train_test_split(X, y, test_size=0.2, random_state=42)\n",
    "\n",
    "# Create an instance of StandardScaler\n",
    "scaler = StandardScaler()\n",
    "\n",
    "# Fit the scaler on the training set\n",
    "scaler.fit(X_train)\n",
    "\n",
    "# Transform the training and testing sets using the scaler\n",
    "X_train = pd.DataFrame(scaler.transform(X_train), columns=X_train.columns)\n",
    "X_test = pd.DataFrame(scaler.transform(X_test), columns=X_test.columns)\n",
    "\n",
    "# Inspect the first few rows of the standardized training set\n",
    "print(X_train.head())"
   ]
  },
  {
   "cell_type": "code",
   "execution_count": 13,
   "metadata": {},
   "outputs": [
    {
     "name": "stdout",
     "output_type": "stream",
     "text": [
      "Accuracy: 0.7337662337662337\n"
     ]
    }
   ],
   "source": [
    "# Create an instance of RandomForestClassifier\n",
    "rfc = RandomForestClassifier(random_state=42)\n",
    "\n",
    "# Fit the classifier on the training set\n",
    "rfc.fit(X_train, y_train)\n",
    "\n",
    "# Predict the target values for the testing set\n",
    "y_pred = rfc.predict(X_test)\n",
    "\n",
    "# Evaluate the accuracy of the classifier\n",
    "accuracy = accuracy_score(y_test, y_pred)\n",
    "\n",
    "# Print the accuracy score\n",
    "print(\"Accuracy:\", accuracy)\n"
   ]
  }
 ],
 "metadata": {
  "kernelspec": {
   "display_name": "Python 3 (ipykernel)",
   "language": "python",
   "name": "python3"
  },
  "language_info": {
   "codemirror_mode": {
    "name": "ipython",
    "version": 3
   },
   "file_extension": ".py",
   "mimetype": "text/x-python",
   "name": "python",
   "nbconvert_exporter": "python",
   "pygments_lexer": "ipython3",
   "version": "3.9.13"
  },
  "vscode": {
   "interpreter": {
    "hash": "ad2bdc8ecc057115af97d19610ffacc2b4e99fae6737bb82f5d7fb13d2f2c186"
   }
  }
 },
 "nbformat": 4,
 "nbformat_minor": 2
}
