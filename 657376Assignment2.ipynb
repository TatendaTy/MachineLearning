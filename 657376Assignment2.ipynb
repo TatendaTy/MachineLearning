{
 "cells": [
  {
   "attachments": {},
   "cell_type": "markdown",
   "metadata": {},
   "source": [
    "#### 01. Use scikit-learn to create a synthetic dataset for regression with 20,000 instances."
   ]
  },
  {
   "cell_type": "code",
   "execution_count": 7,
   "metadata": {},
   "outputs": [],
   "source": [
    "from sklearn.datasets import make_blobs\n",
    "\n",
    "X, y = make_blobs(n_samples=20000, centers=3, n_features=2)"
   ]
  },
  {
   "cell_type": "markdown",
   "metadata": {},
   "source": [
    "#### 02. Train an ensemble learner on the above dataset  using three different machine learning algortihms."
   ]
  },
  {
   "cell_type": "code",
   "execution_count": 8,
   "metadata": {},
   "outputs": [],
   "source": [
    "from sklearn.ensemble import VotingRegressor\n",
    "from sklearn.linear_model import LinearRegression\n",
    "from sklearn.tree import DecisionTreeRegressor\n",
    "from sklearn.svm import SVR\n",
    "from sklearn.model_selection import train_test_split\n",
    "\n",
    "# Splitting the data\n",
    "X_train, X_test, y_train, y_test = train_test_split(X, y)\n",
    "\n",
    "# Creating individual models\n",
    "lr = LinearRegression()\n",
    "dt = DecisionTreeRegressor()\n",
    "svr = SVR()\n",
    "\n",
    "# Creating ensemble model\n",
    "ensemble = VotingRegressor(estimators=[('lr', lr), ('dt', dt), ('svr', svr)])\n",
    "\n",
    "# Fit the ensemble model on the training data\n",
    "ensemble.fit(X_train, y_train)\n",
    "\n",
    "# making predictions on the test data\n",
    "y_pred = ensemble.predict(X_test)"
   ]
  },
  {
   "cell_type": "markdown",
   "metadata": {},
   "source": [
    "#### 03. Evaluate the ensemble learner on the training data and test data."
   ]
  },
  {
   "cell_type": "code",
   "execution_count": 9,
   "metadata": {},
   "outputs": [
    {
     "name": "stdout",
     "output_type": "stream",
     "text": [
      "Average train scores 0.995860674400272\n",
      "Average test scores 0.9952162816652367\n"
     ]
    }
   ],
   "source": [
    "from sklearn.model_selection import StratifiedKFold, cross_val_score\n",
    "\n",
    "# Create a StratifiedKFold object with 5 splits\n",
    "cv = StratifiedKFold(n_splits=5)\n",
    "\n",
    "# Evaluate the ensemble model on the training data using stratified k-fold cross-validation\n",
    "train_score = cross_val_score(ensemble, X_train, y_train, cv=cv)\n",
    "\n",
    "# Evaluate the ensemble model on the testing data using stratified k-fold cross-validation\n",
    "test_score = cross_val_score(ensemble, X_test, y_test, cv=cv)\n",
    "\n",
    "# Print the mean and standard deviation of the scores for both evaluations\n",
    "print(\"Average train scores\", train_score.mean())\n",
    "print(\"Average test scores\", test_score.mean())"
   ]
  },
  {
   "cell_type": "code",
   "execution_count": null,
   "metadata": {},
   "outputs": [],
   "source": []
  }
 ],
 "metadata": {
  "kernelspec": {
   "display_name": "base",
   "language": "python",
   "name": "python3"
  },
  "language_info": {
   "codemirror_mode": {
    "name": "ipython",
    "version": 3
   },
   "file_extension": ".py",
   "mimetype": "text/x-python",
   "name": "python",
   "nbconvert_exporter": "python",
   "pygments_lexer": "ipython3",
   "version": "3.9.13"
  },
  "orig_nbformat": 4
 },
 "nbformat": 4,
 "nbformat_minor": 2
}
