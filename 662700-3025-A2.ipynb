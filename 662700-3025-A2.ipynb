{
 "cells": [
  {
   "cell_type": "markdown",
   "id": "42b3d607",
   "metadata": {},
   "source": [
    "### 662700 MLAMBO TAPIWANASHE\n",
    "#### 01. Use scikit-learn to create a synthetic dataset for regression with 20,000 instances."
   ]
  },
  {
   "cell_type": "code",
   "execution_count": 1,
   "id": "7c1bb4d5",
   "metadata": {},
   "outputs": [],
   "source": [
    "from sklearn.datasets import make_blobs\n",
    "\n",
    "X, y = make_blobs(n_samples=20000, centers=3, n_features=2)"
   ]
  },
  {
   "cell_type": "markdown",
   "id": "eb496e03",
   "metadata": {},
   "source": [
    "#### 02. Train an ensemble learner on the above dataset  using three different machine learning algortihms."
   ]
  },
  {
   "cell_type": "code",
   "execution_count": 2,
   "id": "87214540",
   "metadata": {},
   "outputs": [],
   "source": [
    "from sklearn.ensemble import VotingRegressor\n",
    "from sklearn.linear_model import LinearRegression\n",
    "from sklearn.tree import DecisionTreeRegressor\n",
    "from sklearn.svm import SVR\n",
    "from sklearn.model_selection import train_test_split\n",
    "\n",
    "# Split the data into training and testing sets\n",
    "X_train, X_test, y_train, y_test = train_test_split(X, y)\n",
    "\n",
    "# Create the individual models\n",
    "lr = LinearRegression()\n",
    "dt = DecisionTreeRegressor()\n",
    "svr = SVR()\n",
    "\n",
    "# Create the ensemble model\n",
    "ensemble = VotingRegressor(estimators=[('lr', lr), ('dt', dt), ('svr', svr)])\n",
    "\n",
    "# Fit the ensemble model on the training data\n",
    "ensemble.fit(X_train, y_train)\n",
    "\n",
    "# Make predictions on the testing data\n",
    "y_pred = ensemble.predict(X_test)"
   ]
  },
  {
   "cell_type": "markdown",
   "id": "89e4bc05",
   "metadata": {},
   "source": [
    "#### 03. Evaluate the ensemble learner on the training data and test data."
   ]
  },
  {
   "cell_type": "code",
   "execution_count": 3,
   "id": "12678032",
   "metadata": {},
   "outputs": [
    {
     "name": "stdout",
     "output_type": "stream",
     "text": [
      "Average train scores 0.831385412179715\n",
      "Average test scores 0.8377512025547187\n"
     ]
    }
   ],
   "source": [
    "from sklearn.model_selection import StratifiedKFold, cross_val_score\n",
    "\n",
    "# Create a StratifiedKFold object with 5 splits\n",
    "cv = StratifiedKFold(n_splits=5)\n",
    "\n",
    "# Evaluate the ensemble model on the training data using stratified k-fold cross-validation\n",
    "train_scores = cross_val_score(ensemble, X_train, y_train, cv=cv)\n",
    "\n",
    "# Evaluate the ensemble model on the testing data using stratified k-fold cross-validation\n",
    "test_scores = cross_val_score(ensemble, X_test, y_test, cv=cv)\n",
    "\n",
    "# Print the mean and standard deviation of the scores for both evaluations\n",
    "print(\"Average train scores\", train_scores.mean())\n",
    "print(\"Average test scores\", test_scores.mean())"
   ]
  },
  {
   "cell_type": "code",
   "execution_count": null,
   "id": "3d94366c",
   "metadata": {},
   "outputs": [],
   "source": []
  }
 ],
 "metadata": {
  "kernelspec": {
   "display_name": "Python 3 (ipykernel)",
   "language": "python",
   "name": "python3"
  },
  "language_info": {
   "codemirror_mode": {
    "name": "ipython",
    "version": 3
   },
   "file_extension": ".py",
   "mimetype": "text/x-python",
   "name": "python",
   "nbconvert_exporter": "python",
   "pygments_lexer": "ipython3",
   "version": "3.9.13"
  }
 },
 "nbformat": 4,
 "nbformat_minor": 5
}
