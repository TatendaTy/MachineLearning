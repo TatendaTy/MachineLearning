{
 "cells": [
  {
   "cell_type": "code",
   "execution_count": 9,
   "metadata": {},
   "outputs": [],
   "source": [
    "import pandas as pd\n",
    "import numpy as np\n",
    "import matplotlib.pyplot as plt\n",
    "from sklearn.linear_model import LinearRegression\n",
    "from sklearn.metrics import mean_squared_error, r2_score"
   ]
  },
  {
   "cell_type": "code",
   "execution_count": 10,
   "metadata": {},
   "outputs": [],
   "source": [
    "# Load the data\n",
    "fish_df = pd.read_csv(\"fish.csv\")"
   ]
  },
  {
   "cell_type": "code",
   "execution_count": 11,
   "metadata": {},
   "outputs": [],
   "source": [
    "# Define the input and target variables\n",
    "X = fish_df[\"Length1\"].values.reshape(-1, 1)\n",
    "y = fish_df[\"Weight\"].values.reshape(-1, 1)"
   ]
  },
  {
   "cell_type": "code",
   "execution_count": 12,
   "metadata": {},
   "outputs": [],
   "source": [
    "# Split the data into training and test sets\n",
    "from sklearn.model_selection import train_test_split\n",
    "X_train, X_test, y_train, y_test = train_test_split(X, y, test_size=0.2, random_state=42)"
   ]
  },
  {
   "cell_type": "code",
   "execution_count": 13,
   "metadata": {},
   "outputs": [
    {
     "data": {
      "text/plain": [
       "LinearRegression()"
      ]
     },
     "execution_count": 13,
     "metadata": {},
     "output_type": "execute_result"
    }
   ],
   "source": [
    "# Create a linear regression model and fit it to the training data\n",
    "model = LinearRegression()\n",
    "model.fit(X_train, y_train)"
   ]
  },
  {
   "cell_type": "code",
   "execution_count": 14,
   "metadata": {},
   "outputs": [
    {
     "name": "stdout",
     "output_type": "stream",
     "text": [
      "Coefficients: [[32.44308998]] [-464.13411601]\n"
     ]
    }
   ],
   "source": [
    "# Print the model's coefficients\n",
    "print(\"Coefficients:\", model.coef_, model.intercept_)\n",
    "\n",
    "# Make predictions on the training and test data\n",
    "y_train_pred = model.predict(X_train)\n",
    "y_test_pred = model.predict(X_test)"
   ]
  },
  {
   "cell_type": "code",
   "execution_count": 15,
   "metadata": {},
   "outputs": [
    {
     "data": {
      "image/png": "[encoded data removed]",
      "text/plain": [
       "<Figure size 432x288 with 1 Axes>"
      ]
     },
     "metadata": {
      "needs_background": "light"
     },
     "output_type": "display_data"
    }
   ],
   "source": [
    "# Plot the model and the data\n",
    "plt.scatter(X_train, y_train, color=\"blue\", label=\"Training data\")\n",
    "plt.scatter(X_test, y_test, color=\"green\", label=\"Test data\")\n",
    "plt.plot(X_train, y_train_pred, color=\"red\", label=\"Linear regression model\")\n",
    "plt.xlabel(\"Length1\")\n",
    "plt.ylabel(\"Weight\")\n",
    "plt.legend()\n",
    "plt.show()"
   ]
  },
  {
   "cell_type": "code",
   "execution_count": 16,
   "metadata": {},
   "outputs": [
    {
     "name": "stdout",
     "output_type": "stream",
     "text": [
      "Training set:\n",
      "Mean squared error: 19155.85\n",
      "Coefficient of determination (R^2): 0.84\n",
      "Test set:\n",
      "Mean squared error: 26796.68\n",
      "Coefficient of determination (R^2): 0.81\n"
     ]
    }
   ],
   "source": [
    "# Evaluate the model's performance\n",
    "print(\"Training set:\")\n",
    "print(\"Mean squared error: %.2f\" % mean_squared_error(y_train, y_train_pred))\n",
    "print(\"Coefficient of determination (R^2): %.2f\" % r2_score(y_train, y_train_pred))\n",
    "print(\"Test set:\")\n",
    "print(\"Mean squared error: %.2f\" % mean_squared_error(y_test, y_test_pred))\n",
    "print(\"Coefficient of determination (R^2): %.2f\" % r2_score(y_test, y_test_pred))"
   ]
  }
 ],
 "metadata": {
  "kernelspec": {
   "display_name": "base",
   "language": "python",
   "name": "python3"
  },
  "language_info": {
   "codemirror_mode": {
    "name": "ipython",
    "version": 3
   },
   "file_extension": ".py",
   "mimetype": "text/x-python",
   "name": "python",
   "nbconvert_exporter": "python",
   "pygments_lexer": "ipython3",
   "version": "3.9.12"
  },
  "orig_nbformat": 4,
  "vscode": {
   "interpreter": {
    "hash": "ad2bdc8ecc057115af97d19610ffacc2b4e99fae6737bb82f5d7fb13d2f2c186"
   }
  }
 },
 "nbformat": 4,
 "nbformat_minor": 2
}
