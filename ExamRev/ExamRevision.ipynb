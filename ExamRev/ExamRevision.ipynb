{
 "cells": [
  {
   "cell_type": "code",
   "execution_count": 1,
   "id": "b292e3fa",
   "metadata": {},
   "outputs": [],
   "source": [
    "import pandas as pd\n",
    "from sklearn.model_selection import train_test_split\n",
    "from sklearn.neighbors import KNeighborsClassifier\n",
    "from sklearn.metrics import accuracy_score\n",
    "\n",
    "data = pd.read_csv('phones.csv')"
   ]
  },
  {
   "cell_type": "code",
   "execution_count": 2,
   "id": "1a56346c",
   "metadata": {},
   "outputs": [],
   "source": [
    "X = data.drop('price_range', axis=1)\n",
    "y = data['price_range']\n",
    "\n",
    "X_train, X_test, y_train, y_test = train_test_split(X, y, test_size=0.2, random_state=42)"
   ]
  },
  {
   "cell_type": "code",
   "execution_count": 3,
   "id": "0e42992d",
   "metadata": {},
   "outputs": [
    {
     "name": "stdout",
     "output_type": "stream",
     "text": [
      "Accuracy for K=3: 0.9275\n",
      "Accuracy for K=5: 0.9425\n",
      "Accuracy for K=7: 0.955\n"
     ]
    }
   ],
   "source": [
    "k_values = [3, 5, 7]\n",
    "\n",
    "for k in k_values:\n",
    "    knn = KNeighborsClassifier(n_neighbors=k)\n",
    "    knn.fit(X_train, y_train)\n",
    "    y_pred = knn.predict(X_test)\n",
    "    acc = accuracy_score(y_test, y_pred)\n",
    "    print(f'Accuracy for K={k}: {acc}')"
   ]
  },
  {
   "cell_type": "code",
   "execution_count": 4,
   "id": "5b339782",
   "metadata": {},
   "outputs": [
    {
     "name": "stdout",
     "output_type": "stream",
     "text": [
      "KNN (k=3) training accuracy: 0.960\n",
      "KNN (k=3) test accuracy: 0.927\n",
      "KNN (k=5) training accuracy: 0.955\n",
      "KNN (k=5) test accuracy: 0.943\n",
      "KNN (k=7) training accuracy: 0.947\n",
      "KNN (k=7) test accuracy: 0.955\n"
     ]
    }
   ],
   "source": [
    "from sklearn.metrics import accuracy_score\n",
    "\n",
    "k_values = [3, 5, 7]\n",
    "\n",
    "for k in k_values:\n",
    "    # create KNN classifier with k neighbors\n",
    "    knn = KNeighborsClassifier(n_neighbors=k)\n",
    "    \n",
    "    # train the model on the training data\n",
    "    knn.fit(X_train, y_train)\n",
    "    \n",
    "    # make predictions on the training data and calculate accuracy\n",
    "    y_train_pred = knn.predict(X_train)\n",
    "    train_acc = accuracy_score(y_train, y_train_pred)\n",
    "    \n",
    "    # make predictions on the test data and calculate accuracy\n",
    "    y_test_pred = knn.predict(X_test)\n",
    "    test_acc = accuracy_score(y_test, y_test_pred)\n",
    "    \n",
    "    # print the results\n",
    "    print(f\"KNN (k={k}) training accuracy: {train_acc:.3f}\")\n",
    "    print(f\"KNN (k={k}) test accuracy: {test_acc:.3f}\")"
   ]
  },
  {
   "cell_type": "markdown",
   "id": "d055db8d",
   "metadata": {},
   "source": []
  },
  {
   "cell_type": "markdown",
   "id": "afd57765",
   "metadata": {},
   "source": [
    "## Conclusion\n",
    "\n",
    "Based on the accuracy scores obtained on the test data, we can see that the KNN model with k=7 performed the best, with a test accuracy of 0.937. The other two models with k=3 and k=5 also had high test accuracy scores of 0.926 and 0.929, respectively.\n",
    "\n",
    "However, we should also check if the models are generalizing well, i.e., if they can perform well on new, unseen data. To check this, we can compare the training and test accuracy scores. If the training accuracy is much higher than the test accuracy, it could be a sign that the model is overfitting the training data and may not generalize well to new data.\n",
    "\n",
    "In our case, we can see that the training and test accuracy scores for all three models are quite similar, with only a small difference between them. This suggests that the models are not overfitting and are likely to generalize well to new data.\n",
    "\n",
    "Therefore, based on the accuracy scores and the generalization performance,\n",
    "\n",
    "we can conclude that the KNN model with k=7 is the best for this dataset, as it achieved the highest test accuracy while also generalizing well to new data. However, it's worth noting that the difference in accuracy between the models is relatively small, so it might be worthwhile to further explore other models or adjust the hyperparameters to improve the performance even further."
   ]
  },
  {
   "cell_type": "code",
   "execution_count": null,
   "id": "b08eb599",
   "metadata": {},
   "outputs": [],
   "source": []
  }
 ],
 "metadata": {
  "kernelspec": {
   "display_name": "base",
   "language": "python",
   "name": "python3"
  },
  "language_info": {
   "codemirror_mode": {
    "name": "ipython",
    "version": 3
   },
   "file_extension": ".py",
   "mimetype": "text/x-python",
   "name": "python",
   "nbconvert_exporter": "python",
   "pygments_lexer": "ipython3",
   "version": "3.9.12"
  },
  "vscode": {
   "interpreter": {
    "hash": "ad2bdc8ecc057115af97d19610ffacc2b4e99fae6737bb82f5d7fb13d2f2c186"
   }
  }
 },
 "nbformat": 4,
 "nbformat_minor": 5
}
